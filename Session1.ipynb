{
 "cells": [
  {
   "cell_type": "code",
   "execution_count": 1,
   "metadata": {},
   "outputs": [],
   "source": [
    "import spotipy\n",
    "from spotipy.oauth2 import SpotifyClientCredentials\n",
    "import networkx as nx\n",
    "import pandas as pd\n",
    "import time \n",
    "\n",
    "CLIENT_ID     = \"9698e462a6bb493ea901b6856cab619f\"\n",
    "CLIENT_SECRET = \"dd9b9a7ecb06457bad00b54cec5a0b26\"\n",
    "\n",
    "auth_manager = SpotifyClientCredentials (\n",
    "            client_id     = CLIENT_ID ,\n",
    "            client_secret = CLIENT_SECRET )\n",
    "\n",
    "sp = spotipy.Spotify( auth_manager = auth_manager )"
   ]
  },
  {
   "cell_type": "code",
   "execution_count": 2,
   "metadata": {},
   "outputs": [],
   "source": [
    "def search_artist(artist_name: str) -> str:\n",
    "    results = sp.search(q=artist_name, type='artist')\n",
    "    if results['artists'][\"total\"] != 0:\n",
    "        artist = results[\"artists\"][\"items\"][0]\n",
    "        artist_id = artist[\"id\"]\n",
    "        return artist_id\n",
    "    return None"
   ]
  },
  {
   "cell_type": "code",
   "execution_count": 3,
   "metadata": {},
   "outputs": [],
   "source": [
    "def BFS(artist_id, graph, Queue):\n",
    "    for friend_artist in (sp.artist_related_artists(artist_id)[\"artists\"]):\n",
    "        graph.add_edge(artist_id, friend_artist[\"id\"])\n",
    "        if friend_artist[\"id\"] not in Queue:\n",
    "            Queue.append(friend_artist[\"id\"])\n",
    "    return graph, Queue"
   ]
  },
  {
   "cell_type": "code",
   "execution_count": 4,
   "metadata": {},
   "outputs": [],
   "source": [
    "def DFS(artist_id, graph, stack, nodes_visitats):\n",
    "    friends_node = []\n",
    "    for friend_artist in (sp.artist_related_artists(artist_id)[\"artists\"]):\n",
    "        graph.add_edge(artist_id, friend_artist[\"id\"])\n",
    "        if (friend_artist[\"id\"]) not in nodes_visitats:\n",
    "            friends_node.append(friend_artist[\"id\"])\n",
    "    stack = friends_node + stack\n",
    "    return graph, stack"
   ]
  },
  {
   "cell_type": "code",
   "execution_count": 5,
   "metadata": {},
   "outputs": [],
   "source": [
    "def add_properties(graph):\n",
    "    nodes_data = {}\n",
    "    for node_id in graph.nodes():\n",
    "        artist = sp.artist(node_id)\n",
    "        properties = {\n",
    "            'name': artist['name'],\n",
    "            'id': artist['id'],\n",
    "            'followers': artist['followers']['total'],\n",
    "            'popularity': artist['popularity'],\n",
    "            'genres': str(artist['genres'])\n",
    "        }\n",
    "        nodes_data[node_id] = properties\n",
    "\n",
    "    nx.set_node_attributes(graph, nodes_data)\n",
    "    return graph"
   ]
  },
  {
   "cell_type": "code",
   "execution_count": 11,
   "metadata": {},
   "outputs": [],
   "source": [
    "def crawler(seed: str, max_nodes_to_crawl: int, strategy: str = \"BFS\", out_filename: str = \"g.graphml\") -> nx.DiGraph:\n",
    "    \"\"\"\n",
    "    Crawl the Spotify artist graph, following related artists.\n",
    "\n",
    "    :param seed: starting artist id.\n",
    "    :param max_nodes_to_crawl: maximum number of nodes to crawl.\n",
    "    :param strategy: BFS or DFS.\n",
    "    :param out_filename: name of the graphml output file.\n",
    "    :return: networkx directed graph.\n",
    "\n",
    "    \"\"\"\n",
    "    last_crawled = None\n",
    "    graph = nx.DiGraph()\n",
    "    crawled_nodes = 0\n",
    "    if strategy == \"BFS\":\n",
    "        Queue = [seed]\n",
    "        while (crawled_nodes < max_nodes_to_crawl) and (crawled_nodes < len(Queue)):\n",
    "            graph, Queue  = BFS(Queue[crawled_nodes], graph, Queue)\n",
    "            crawled_nodes = crawled_nodes + 1\n",
    "        last_crawled = Queue[crawled_nodes]\n",
    "        \n",
    "    elif strategy == \"DFS\":\n",
    "        Stack = [seed]\n",
    "        nodes_visitats = set()\n",
    "        while (crawled_nodes < max_nodes_to_crawl) and (len(Stack) != 0):\n",
    "            node = Stack.pop(0)    \n",
    "            nodes_visitats.add(node)      \n",
    "            graph, Stack  = DFS(node, graph, Stack, nodes_visitats)\n",
    "            crawled_nodes = crawled_nodes + 1\n",
    "        last_crawled = node\n",
    "        \n",
    "    graph = add_properties(graph)\n",
    "    nx.write_graphml_lxml(graph, out_filename)\n",
    "    return graph, last_crawled"
   ]
  },
  {
   "cell_type": "code",
   "execution_count": 7,
   "metadata": {},
   "outputs": [],
   "source": [
    "def get_track_data(graphs: list, out_filename: str) -> pd.DataFrame:\n",
    "    \"\"\"\n",
    "    Get track data for each visited artist in the graph.\n",
    "\n",
    "    :param graphs: a list of graphs with artists as nodes.\n",
    "    :param out_filename: name of the csv output file.\n",
    "    :return: pandas dataframe with track data.\n",
    "    \"\"\"\n",
    "    # ------- IMPLEMENT HERE THE BODY OF THE FUNCTION ------- #\n",
    "    data = {}\n",
    "\n",
    "    total_artist = {artist for graph in graphs \n",
    "                    for artist in graph.nodes if graph.out_degree(artist) > 0}\n",
    "    for artist in total_artist:\n",
    "        \n",
    "        top_tracks = sp.artist_top_tracks(artist, country='ES')\n",
    "\n",
    "        for track in top_tracks[\"tracks\"]:\n",
    "\n",
    "            audio = sp.audio_features(track[\"id\"])\n",
    "\n",
    "            song_data = {\"id\": track[\"id\"], \n",
    "                         \"duration_ms\": track[\"duration_ms\"], \n",
    "                         \"name\": track[\"name\"], \n",
    "                         \"popularity\": track[\"popularity\"]}\n",
    "\n",
    "            audio_feature = {\"danceability\": audio[0][\"danceability\"], \n",
    "                             \"energy\": audio[0][\"energy\"], \n",
    "                             \"loudness\": audio[0][\"loudness\"], \n",
    "                             \"speechiness\": audio[0][\"speechiness\"], \n",
    "                             \"acousticness\": audio[0][\"acousticness\"], \n",
    "                             \"instrumentalness\": audio[0][\"instrumentalness\"], \n",
    "                             \"liveness\": audio[0][\"liveness\"], \n",
    "                             \"valence\": audio[0][\"valence\"], \n",
    "                            \"tempo\": audio[0][\"tempo\"]\n",
    "                            }\n",
    "            \n",
    "            albums = {\"id\": track[\"album\"][\"id\"], \n",
    "                      \"name\": track[\"album\"][\"name\"], \n",
    "                      \"release_date\": track[\"album\"][\"release_date\"]\n",
    "                      }\n",
    "            \n",
    "            artists = {\"id\": artist, \n",
    "                       \"name\": sp.artist(artist)[\"name\"]\n",
    "                       }\n",
    "            \n",
    "            data[track[\"id\"]] = {\"song_data\": song_data, \"audio_feature\": audio_feature, \"albums\": albums, \"artists\": artists}\n",
    "        \n",
    "    Data = pd.DataFrame.from_dict(data, orient = \"index\")\n",
    "    Data.to_csv(out_filename)\n",
    "\n",
    "    return Data"
   ]
  },
  {
   "cell_type": "code",
   "execution_count": 8,
   "metadata": {},
   "outputs": [],
   "source": [
    "Artist_id  = search_artist(\"Drake\")\n",
    "Graph_B, _ = crawler(Artist_id, 200, \"BFS\", \"Graph_B.graphml\")\n",
    "Graph_D, Last_Crawled_id = crawler(Artist_id, 200, \"DFS\", \"Graph_D.graphml\")"
   ]
  },
  {
   "cell_type": "code",
   "execution_count": 12,
   "metadata": {},
   "outputs": [],
   "source": [
    "Artist_id    = search_artist(\"French Montana\")\n",
    "Graph_HB, _  = crawler(Artist_id, 200, \"BFS\", \"Graph_HB.graphml\")\n",
    "Graph_fb, _  = crawler(Last_Crawled_id, 200, strategy='BFS', out_filename = \"Graph_FB.graphml\")"
   ]
  },
  {
   "cell_type": "code",
   "execution_count": 45,
   "metadata": {},
   "outputs": [],
   "source": [
    "Graph_B  = nx.read_graphml(r'C:\\Users\\34644\\Desktop\\Second Semester\\Graphs and Networks\\Final Project\\Graph_B.graphml')\n",
    "Graph_B_Dataframe = get_track_data([Graph_B], 'Pandas_Graph_B.csv') "
   ]
  },
  {
   "cell_type": "code",
   "execution_count": 13,
   "metadata": {},
   "outputs": [],
   "source": [
    "Graph_D  = nx.read_graphml(r'C:\\Users\\34644\\Desktop\\Second Semester\\Graphs and Networks\\Final Project\\Graph_D.graphml')\n",
    "Graph_B_Dataframe = get_track_data([Graph_D], 'Pandas_Graph_D.csv') "
   ]
  }
 ],
 "metadata": {
  "kernelspec": {
   "display_name": "base",
   "language": "python",
   "name": "python3"
  },
  "language_info": {
   "codemirror_mode": {
    "name": "ipython",
    "version": 3
   },
   "file_extension": ".py",
   "mimetype": "text/x-python",
   "name": "python",
   "nbconvert_exporter": "python",
   "pygments_lexer": "ipython3",
   "version": "3.9.13"
  },
  "orig_nbformat": 4
 },
 "nbformat": 4,
 "nbformat_minor": 2
}
