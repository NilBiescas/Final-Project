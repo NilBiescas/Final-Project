{
 "cells": [
  {
   "cell_type": "code",
   "execution_count": 10,
   "metadata": {},
   "outputs": [],
   "source": [
    "import networkx as nx\n",
    "from networkx.algorithms.community.centrality import girvan_newman\n",
    "from networkx.algorithms.community import louvain_communities, modularity\n"
   ]
  },
  {
   "cell_type": "code",
   "execution_count": 11,
   "metadata": {},
   "outputs": [],
   "source": [
    "import spotipy\n",
    "from spotipy.oauth2 import SpotifyClientCredentials\n",
    "import networkx as nx\n",
    "import pandas as pd\n",
    "import time \n",
    "\n",
    "CLIENT_ID     = \"9698e462a6bb493ea901b6856cab619f\"\n",
    "CLIENT_SECRET = \"dd9b9a7ecb06457bad00b54cec5a0b26\"\n",
    "\n",
    "auth_manager = SpotifyClientCredentials (\n",
    "            client_id     = CLIENT_ID ,\n",
    "            client_secret = CLIENT_SECRET )\n",
    "\n",
    "sp = spotipy.Spotify( auth_manager = auth_manager )"
   ]
  },
  {
   "cell_type": "code",
   "execution_count": 12,
   "metadata": {},
   "outputs": [],
   "source": [
    "def num_common_nodes(*arg):\n",
    "    \"\"\"\n",
    "    Return the number of common nodes between a set of graphs.\n",
    "\n",
    "    :param arg: (an undetermined number of) networkx graphs.\n",
    "    :return: an integer, number of common nodes.\n",
    "    \"\"\"\n",
    "    # ------- IMPLEMENT HERE THE BODY OF THE FUNCTION ------- #\n",
    "    common_nodes = set(arg[0].nodes)\n",
    "    for graph in arg[1:]:\n",
    "        nodes = set(graph.nodes)\n",
    "        common_nodes = common_nodes.intersection(nodes)\n",
    "\n",
    "    return len(common_nodes)\n",
    "    # ----------------- END OF FUNCTION --------------------- #"
   ]
  },
  {
   "cell_type": "code",
   "execution_count": 13,
   "metadata": {},
   "outputs": [],
   "source": [
    "def get_degree_distribution(g: nx.Graph) -> dict:\n",
    "    \"\"\"\n",
    "    Get the degree distribution of the graph.\n",
    "\n",
    "    :param g: networkx graph.\n",
    "    :return: dictionary with degree distribution (keys are degrees, values are number of occurrences).\n",
    "    \"\"\"\n",
    "    # ------- IMPLEMENT HERE THE BODY OF THE FUNCTION ------- #\n",
    "    degree_count = nx.degree_histogram(g)\n",
    "    degree_distribution = {degree: count for degree, count in enumerate(degree_count)}\n",
    "    return degree_distribution\n",
    "    # ----------------- END OF FUNCTION --------------------- #"
   ]
  },
  {
   "cell_type": "code",
   "execution_count": 14,
   "metadata": {},
   "outputs": [],
   "source": [
    "def get_k_most_central(g: nx.Graph, metric: str, num_nodes: int) -> list:\n",
    "    \"\"\"\n",
    "    Get the k most central nodes in the graph.\n",
    "\n",
    "    :param g: networkx graph.\n",
    "    :param metric: centrality metric. Can be (at least) 'degree', 'betweenness', 'closeness' or 'eigenvector'.\n",
    "    :param num_nodes: number of nodes to return.\n",
    "    :return: list with the top num_nodes nodes with the specified centrality.\n",
    "    \"\"\"\n",
    "    # ------- IMPLEMENT HERE THE BODY OF THE FUNCTION ------- #\n",
    "    if metric == \"degree\":\n",
    "        most_central = sorted(nx.degree_centrality(g).items(), key=lambda item: item[1], reverse=True)[:num_nodes]\n",
    "    elif metric == \"betweeness\":\n",
    "        most_central = sorted(nx.betweenness_centrality(g).items(), key=lambda item: item[1], reverse=True)[:num_nodes]\n",
    "    elif metric == \"closeness\":\n",
    "        most_central = sorted(nx.closeness_centrality(g).items(), key=lambda item: item[1], reverse=True)[:num_nodes]\n",
    "    elif metric == \"eigenvector\":\n",
    "        most_central = sorted(nx.eigenvector_centrality(g).items(), key=lambda item: item[1], reverse=True)[:num_nodes]\n",
    "    elif metric == \"page_rank\":\n",
    "        most_central = sorted(nx.pagerank(g).items(), key=lambda item: item[1], reverse=True)[:num_nodes]\n",
    "    \n",
    "    return most_central\n",
    "    # ----------------- END OF FUNCTION --------------------- #"
   ]
  },
  {
   "cell_type": "code",
   "execution_count": 20,
   "metadata": {},
   "outputs": [],
   "source": [
    "def find_cliques(g: nx.Graph, min_size_clique: int) -> tuple:\n",
    "    \"\"\"\n",
    "    Find cliques in the graph g with size at least min_size_clique.\n",
    "\n",
    "    :param g: networkx graph.\n",
    "    :param min_size_clique: minimum size of the cliques to find.\n",
    "    :return: two-element tuple, list of cliques (each clique is a list of nodes) and\n",
    "        list of nodes in any of the cliques.\n",
    "    \"\"\"\n",
    "    # ------- IMPLEMENT HERE THE BODY OF THE FUNCTION ------- #\n",
    "    cliques = [clic for clic in nx.find_cliques(g) if len(clic) >= min_size_clique]\n",
    "    clique_nodes = list(set(node for clique in cliques for node in clique))\n",
    "\n",
    "    return cliques, clique_nodes\n",
    "    # ----------------- END OF FUNCTION --------------------- #"
   ]
  },
  {
   "cell_type": "code",
   "execution_count": 16,
   "metadata": {},
   "outputs": [],
   "source": [
    "import networkx as nx\n",
    "from networkx.algorithms.community.quality import is_partition, modularity\n",
    "\n",
    "def detect_communities(g: nx.Graph, method: str) -> tuple:\n",
    "    \"\"\"\n",
    "    Detect communities in the graph g using the specified method.\n",
    "\n",
    "    :param g: a networkx graph.\n",
    "    :param method: string with the name of the method to use. Can be (at least) 'givarn-newman' or 'louvain'.\n",
    "    :return: two-element tuple, list of communities (each community is a list of nodes) and modularity of the partition.\n",
    "    \"\"\"\n",
    "    # ------- IMPLEMENT HERE THE BODY OF THE FUNCTION ------- #\n",
    "    if method == \"girvan_newman\":\n",
    "        communities = [comuniti[0] for comuniti in list(girvan_newman(g))]\n",
    "    elif method == \"louvain\":\n",
    "        communities = louvain_communities(g)\n",
    "    else:\n",
    "        raise ValueError(\"Invalid method name.\")\n",
    "\n",
    "    if not is_partition(g, communities):\n",
    "        raise ValueError(\"Communities do not form a valid partition.\")\n",
    "\n",
    "    modularity_partition = modularity(g, communities)\n",
    "    return communities, modularity_partition\n",
    "    # ----------------- END OF FUNCTION --------------------- #\n"
   ]
  },
  {
   "cell_type": "code",
   "execution_count": 17,
   "metadata": {},
   "outputs": [],
   "source": [
    "def detect_communities(g: nx.Graph, method: str) -> tuple:\n",
    "    \"\"\"\n",
    "    Detect communities in the graph g using the specified method.\n",
    "\n",
    "    :param g: a networkx graph.\n",
    "    :param method: string with the name of the method to use. Can be (at least) 'givarn-newman' or 'louvain'.\n",
    "    :return: two-element tuple, list of communities (each community is a list of nodes) and modularity of the partition.\n",
    "    \"\"\"\n",
    "    # ------- IMPLEMENT HERE THE BODY OF THE FUNCTION ------- #\n",
    "    if method == \"girvan_newman\":\n",
    "        communities = list(girvan_newman(g))\n",
    "        \n",
    "    elif method == \"louvain\":\n",
    "        communities = louvain_communities(g)\n",
    "        \n",
    "    modularity_partition = modularity(g, communities)\n",
    "\n",
    "    return (communities, modularity_partition)\n",
    "\n",
    "    # ----------------- END OF FUNCTION --------------------- #"
   ]
  },
  {
   "cell_type": "code",
   "execution_count": 28,
   "metadata": {},
   "outputs": [],
   "source": [
    "def find_cliques(g: nx.Graph, min_size_clique: int) -> tuple:\n",
    "    \"\"\"\n",
    "    Find cliques in the graph g with size at least min_size_clique.\n",
    "\n",
    "    :param g: networkx graph.\n",
    "    :param min_size_clique: minimum size of the cliques to find.\n",
    "    :return: two-element tuple, list of cliques (each clique is a list of nodes) and\n",
    "        list of nodes in any of the cliques.\n",
    "    \"\"\"\n",
    "    # ------- IMPLEMENT HERE THE BODY OF THE FUNCTION ------- #\n",
    "    cliques = [clic for clic in nx.find_cliques(g) if len(clic) >= min_size_clique]\n",
    "    clique_nodes = list(set(node for clique in cliques for node in clique))\n",
    "\n",
    "    return cliques, clique_nodes\n",
    "    # ----------------- END OF FUNCTION --------------------- #"
   ]
  },
  {
   "cell_type": "code",
   "execution_count": 21,
   "metadata": {},
   "outputs": [],
   "source": [
    "Graph_B  = nx.read_graphml('/Users/nbiescas/Desktop/Graphs/Undirected_graph_B.graphml.xml')\n",
    "Graph_D  = nx.read_graphml('/Users/nbiescas/Desktop/Graphs/Graphs_data/Graph_D.graphml.xml')"
   ]
  },
  {
   "cell_type": "code",
   "execution_count": 8,
   "metadata": {},
   "outputs": [],
   "source": [
    "Graph_B_und = nx.read_graphml('/Users/nbiescas/Desktop/Graphs/Graphs_data/Undirected_graph_B.graphml')\n",
    "Graph_D_und = nx.read_graphml('/Users/nbiescas/Desktop/Graphs/Graphs_data/Undirected_graph_D.graphml')"
   ]
  },
  {
   "cell_type": "code",
   "execution_count": null,
   "metadata": {},
   "outputs": [],
   "source": [
    "GB = find_cliques(Graph_B_und, min_size_clique = 7)\n",
    "GD = find_cliques(Graph_D_und, min_size_clique = 10)\n",
    "print(len(GB[0]))\n",
    "print(len(GD[0]))\n",
    "\n",
    "GB_art = GB[1]"
   ]
  },
  {
   "cell_type": "code",
   "execution_count": 31,
   "metadata": {},
   "outputs": [
    {
     "name": "stdout",
     "output_type": "stream",
     "text": [
      "139487\n",
      "2020968\n",
      "1881481\n",
      "40\n",
      "68\n",
      "28\n",
      "{'atl hip hop', 'crunk', 'east coast hip hop', 'rap', 'queens hip hop', 'alabama rap', 'drumless hip hop', 'indiana hip hop', 'futuristic swag', 'boom bap', 'dirty south rap', 'escape room', 'mississippi hip hop', 'experimental hip hop', 'old school atlanta hip hop', 'conscious hip hop', 'underground hip hop', 'nyc rap', 'alternative hip hop', 'trap', 'detroit hip hop', 'southern hip hop', 'hip hop'}\n",
      "23\n",
      "19\n"
     ]
    }
   ],
   "source": [
    "art = {}\n",
    "for artists in GB_art:\n",
    "    artist = sp.artist(artists)\n",
    "    name = artist['name']\n",
    "    followers = artist['followers']['total']\n",
    "    popularity = artist['popularity']\n",
    "    genres = artist['genres']\n",
    "    art[name] = {\"followers\": followers, \"popularity\": popularity, \"genres\": genres}\n",
    "\n",
    "art = pd.DataFrame(art).T\n",
    "\n",
    "max_followers = art['followers'].max()\n",
    "min_followers = art['followers'].min()\n",
    "range_followers = max_followers - min_followers\n",
    "\n",
    "# Find the minimum popularity\n",
    "min_popularity = art['popularity'].min()\n",
    "max_popularity = art['popularity'].max()\n",
    "range_popularity = max_popularity - min_popularity\n",
    "\n",
    "\n",
    "\n",
    "# Find the intersection of genres\n",
    "all_genres = set()\n",
    "\n",
    "for genres_list in art['genres']:\n",
    "    for genre in genres_list:\n",
    "        all_genres.add(genre)\n",
    "\n",
    "count = sum(1 for genre in all_genres if 'hip hop' in genre or 'rap' in genre)\n",
    "\n",
    "print(min_followers)\n",
    "print(max_followers)\n",
    "print(range_followers)\n",
    "\n",
    "print(min_popularity)\n",
    "print(max_popularity)\n",
    "print(range_popularity)\n",
    "\n",
    "print(all_genres)\n",
    "print(len(all_genres))\n",
    "\n",
    "print(count)"
   ]
  },
  {
   "cell_type": "code",
   "execution_count": null,
   "metadata": {},
   "outputs": [],
   "source": []
  },
  {
   "cell_type": "code",
   "execution_count": null,
   "metadata": {},
   "outputs": [],
   "source": [
    "if __name__ == '__main__':\n",
    "    # ------- IMPLEMENT HERE THE MAIN FOR THIS SESSION ------- #\n",
    "    #common_nodes = num_common_nodes(...)\n",
    "    #deg_dist = get_degree_distribution(...)\n",
    "    #most_central = get_k_most_central(...)\n",
    "    #cliques, cliques_nodes = find_cliques(...)\n",
    "    #communities, modularity = detect_communities(...)\n",
    "    # ------------------- END OF MAIN ------------------------ #"
   ]
  }
 ],
 "metadata": {
  "kernelspec": {
   "display_name": "Python 3",
   "language": "python",
   "name": "python3"
  },
  "language_info": {
   "codemirror_mode": {
    "name": "ipython",
    "version": 3
   },
   "file_extension": ".py",
   "mimetype": "text/x-python",
   "name": "python",
   "nbconvert_exporter": "python",
   "pygments_lexer": "ipython3",
   "version": "3.9.13"
  },
  "orig_nbformat": 4
 },
 "nbformat": 4,
 "nbformat_minor": 2
}
