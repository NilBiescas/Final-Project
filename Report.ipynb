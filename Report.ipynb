{
 "cells": [
  {
   "cell_type": "code",
   "execution_count": 14,
   "metadata": {},
   "outputs": [],
   "source": [
    "import networkx as nx\n",
    "import pandas as pd\n",
    "from Skeletons.Lab_AGX_202223_S2_skeleton import *"
   ]
  },
  {
   "attachments": {},
   "cell_type": "markdown",
   "metadata": {},
   "source": [
    "# Firts Session Code"
   ]
  },
  {
   "cell_type": "code",
   "execution_count": 11,
   "metadata": {},
   "outputs": [],
   "source": [
    "Graph_B  = nx.read_graphml('/Users/nbiescas/Desktop/Graphs/Graphs_data/Graph_A.graphml')\n",
    "Graph_D  = nx.read_graphml('/Users/nbiescas/Desktop/Graphs/Graphs_data/Graph_B.graphml')"
   ]
  },
  {
   "cell_type": "code",
   "execution_count": null,
   "metadata": {},
   "outputs": [],
   "source": [
    "import matplotlib.pyplot as plt\n",
    "plt.plot(order_DFS, label = \"DFS\")\n",
    "plt.plot(order_BFS, label = \"BFS\")\n",
    "plt.xlabel('Position')\n",
    "plt.ylabel('Value')\n",
    "plt.title('Line Plot of Incrementing Values')\n",
    "plt.legend()\n",
    "plt.show()\n"
   ]
  },
  {
   "attachments": {},
   "cell_type": "markdown",
   "metadata": {},
   "source": [
    "In Degree, Out-Degree and Median in degree of the graphs"
   ]
  },
  {
   "cell_type": "code",
   "execution_count": 3,
   "metadata": {},
   "outputs": [],
   "source": [
    "#Graph B\n",
    "In_Degree = Graph_B.in_degree(Graph_B.nodes())\n",
    "in_degree_values_sorted = sorted([degree for _, degree in In_Degree])\n",
    "Minimum_In_Degree = in_degree_values_sorted[0]\n",
    "Maximum_In_Degree = in_degree_values_sorted[-1]\n",
    "\n",
    "n = len(in_degree_values_sorted)\n",
    "Median_In_Degree  = in_degree_values_sorted[n // 2] if n % 2 == 1 else (in_degree_values_sorted[n // 2 - 1] + in_degree_values_sorted[n // 2]) / 2"
   ]
  },
  {
   "cell_type": "code",
   "execution_count": 4,
   "metadata": {},
   "outputs": [],
   "source": [
    "#Graph_D\n",
    "In_Degree = Graph_D.in_degree(Graph_D.nodes())\n",
    "in_degree_values_sorted = sorted([degree for _, degree in In_Degree])\n",
    "Minimum_In_Degree = in_degree_values_sorted[0]\n",
    "Maximum_In_Degree = in_degree_values_sorted[-1]\n",
    "\n",
    "n = len(in_degree_values_sorted)\n",
    "Median_In_Degree  = in_degree_values_sorted[n // 2] if n % 2 == 1 else (in_degree_values_sorted[n // 2 - 1] + in_degree_values_sorted[n // 2]) / 2"
   ]
  },
  {
   "attachments": {},
   "cell_type": "markdown",
   "metadata": {},
   "source": [
    "Number of songs"
   ]
  },
  {
   "cell_type": "code",
   "execution_count": null,
   "metadata": {},
   "outputs": [],
   "source": [
    "DataFrame                = pd.read_csv('/Users/nbiescas/Desktop/Graphs/Graphs_data/D.csv', index_col=\"song_id\")"
   ]
  },
  {
   "cell_type": "code",
   "execution_count": null,
   "metadata": {},
   "outputs": [],
   "source": [
    "number_songs  = len(DataFrame.index)\n",
    "number_artist = len(DataFrame.artists.unique())\n",
    "number_albums = len(DataFrame.albums.unique())"
   ]
  },
  {
   "attachments": {},
   "cell_type": "markdown",
   "metadata": {},
   "source": [
    "# Second Session Code"
   ]
  }
 ],
 "metadata": {
  "kernelspec": {
   "display_name": "base",
   "language": "python",
   "name": "python3"
  },
  "language_info": {
   "codemirror_mode": {
    "name": "ipython",
    "version": 3
   },
   "file_extension": ".py",
   "mimetype": "text/x-python",
   "name": "python",
   "nbconvert_exporter": "python",
   "pygments_lexer": "ipython3",
   "version": "3.9.13"
  },
  "orig_nbformat": 4
 },
 "nbformat": 4,
 "nbformat_minor": 2
}
