{
 "cells": [
  {
   "cell_type": "code",
   "execution_count": 2,
   "metadata": {},
   "outputs": [],
   "source": [
    "import networkx as nx\n",
    "import pandas as pd\n",
    "from Skeletons.Lab_AGX_202223_S2_skeleton import *"
   ]
  },
  {
   "attachments": {},
   "cell_type": "markdown",
   "metadata": {},
   "source": [
    "# Firts Session Code"
   ]
  },
  {
   "cell_type": "code",
   "execution_count": 7,
   "metadata": {},
   "outputs": [],
   "source": [
    "Graph_B  = nx.read_graphml('/Users/nbiescas/Desktop/Graphs/Graphs_data/Graph_B.graphml')\n",
    "Graph_D  = nx.read_graphml('/Users/nbiescas/Desktop/Graphs/Graphs_data/Graph_D.graphml')"
   ]
  },
  {
   "cell_type": "code",
   "execution_count": 27,
   "metadata": {},
   "outputs": [],
   "source": [
    "#Order of the graphs\n",
    "order_b = Graph_B.order()\n",
    "order_d = Graph_D.order()\n",
    "\n",
    "#Size of the graphs\n",
    "size_b = Graph_B.size()\n",
    "size_d = Graph_D.size()\n"
   ]
  },
  {
   "cell_type": "code",
   "execution_count": null,
   "metadata": {},
   "outputs": [],
   "source": [
    "#import matplotlib.pyplot as plt\n",
    "#plt.plot(order_DFS, label = \"DFS\")\n",
    "#plt.plot(order_BFS, label = \"BFS\")\n",
    "#plt.xlabel('Position')\n",
    "#plt.ylabel('Value')\n",
    "#plt.title('Line Plot of Incrementing Values')\n",
    "#plt.legend()\n",
    "#plt.show()\n"
   ]
  },
  {
   "attachments": {},
   "cell_type": "markdown",
   "metadata": {},
   "source": [
    "In Degree, Out-Degree and Median in degree of the graphs"
   ]
  },
  {
   "cell_type": "code",
   "execution_count": 28,
   "metadata": {},
   "outputs": [],
   "source": [
    "#Graph B\n",
    "In_Degree = Graph_B.in_degree(Graph_B.nodes())\n",
    "in_degree_values_sorted = sorted([degree for _, degree in In_Degree])\n",
    "Minimum_In_Degree = in_degree_values_sorted[0]\n",
    "Maximum_In_Degree = in_degree_values_sorted[-1]\n",
    "\n",
    "n = len(in_degree_values_sorted)\n",
    "Median_In_Degree  = in_degree_values_sorted[n // 2] if n % 2 == 1 else (in_degree_values_sorted[n // 2 - 1] + in_degree_values_sorted[n // 2]) / 2"
   ]
  },
  {
   "cell_type": "code",
   "execution_count": 30,
   "metadata": {},
   "outputs": [],
   "source": [
    "DataFrame = pd.read_csv('/Users/nbiescas/Desktop/Graphs/Graphs_data/D.csv', index_col=\"song_id\")"
   ]
  },
  {
   "cell_type": "code",
   "execution_count": 31,
   "metadata": {},
   "outputs": [],
   "source": [
    "number_songs  = len(DataFrame.index)\n",
    "number_artist = len(DataFrame.artists.unique())\n",
    "number_albums = len(DataFrame.albums.unique())"
   ]
  },
  {
   "attachments": {},
   "cell_type": "markdown",
   "metadata": {},
   "source": [
    "# Second Session Code"
   ]
  },
  {
   "cell_type": "code",
   "execution_count": 3,
   "metadata": {},
   "outputs": [],
   "source": [
    "Undirected_graph_B  = nx.read_graphml('/Users/nbiescas/Desktop/Graphs/Graphs_data/Undirected_graph_B.graphml')\n",
    "Undirected_graph_D  = nx.read_graphml('/Users/nbiescas/Desktop/Graphs/Graphs_data/Undirected_graph_D.graphml')\n",
    "\n",
    "Undirected_graph_B_weights = nx.read_graphml('/Users/nbiescas/Desktop/Graphs/Graphs_data/Weighted_Graph_B.graphml')\n",
    "Undirected_graph_D_weights = nx.read_graphml('/Users/nbiescas/Desktop/Graphs/Graphs_data/Weighted_Graph_D.graphml')"
   ]
  },
  {
   "attachments": {},
   "cell_type": "markdown",
   "metadata": {},
   "source": [
    "Provide the order and size of the four obtained undirected graphs"
   ]
  },
  {
   "cell_type": "code",
   "execution_count": 4,
   "metadata": {},
   "outputs": [
    {
     "name": "stdout",
     "output_type": "stream",
     "text": [
      "Order Undirected_graph_B: 189\n",
      "\n",
      "Order Undirected_graph_D: 192\n",
      "\n",
      "Order Undirected_graph_B_weights: 177\n",
      "\n",
      "Order Undirected_graph_D_weights: 186\n",
      "\n"
     ]
    }
   ],
   "source": [
    "print(\"Order Undirected_graph_B: {}\\n\".format(Undirected_graph_B.order()))\n",
    "print(\"Order Undirected_graph_D: {}\\n\".format(Undirected_graph_D.order()))\n",
    "print(\"Order Undirected_graph_B_weights: {}\\n\".format(Undirected_graph_B_weights.order()))\n",
    "print(\"Order Undirected_graph_D_weights: {}\\n\".format(Undirected_graph_D_weights.order()))"
   ]
  },
  {
   "cell_type": "code",
   "execution_count": 5,
   "metadata": {},
   "outputs": [
    {
     "name": "stdout",
     "output_type": "stream",
     "text": [
      "Size Undirected_graph_B: 488\n",
      "\n",
      "Size Undirected_graph_D: 931\n",
      "\n",
      "Size Undirected_graph_B_weights: 435\n",
      "\n",
      "Size Undirected_graph_D_weights: 994\n",
      "\n"
     ]
    }
   ],
   "source": [
    "print(\"Size Undirected_graph_B: {}\\n\".format(Undirected_graph_B.size()))\n",
    "print(\"Size Undirected_graph_D: {}\\n\".format(Undirected_graph_D.size()))\n",
    "print(\"Size Undirected_graph_B_weights: {}\\n\".format(Undirected_graph_B_weights.size()))\n",
    "print(\"Size Undirected_graph_D_weights: {}\\n\".format(Undirected_graph_D_weights.size()))"
   ]
  },
  {
   "attachments": {},
   "cell_type": "markdown",
   "metadata": {},
   "source": [
    "Stronly and Weakly connected Components "
   ]
  },
  {
   "cell_type": "code",
   "execution_count": 8,
   "metadata": {},
   "outputs": [],
   "source": [
    "#Weakly connected components\n",
    "weakly_connected_components_Graph_B = list(nx.weakly_connected_components(Graph_B))\n",
    "weakly_connected_components_Graph_D = list(nx.weakly_connected_components(Graph_D))"
   ]
  },
  {
   "cell_type": "code",
   "execution_count": 9,
   "metadata": {},
   "outputs": [],
   "source": [
    "#Strongly connected components\n",
    "strongly_connected_components_Graph_B = len(list(nx.strongly_connected_components(Graph_B)))\n",
    "strongly_connected_components_Graph_D = len(list(nx.strongly_connected_components(Graph_D)))"
   ]
  },
  {
   "attachments": {},
   "cell_type": "markdown",
   "metadata": {},
   "source": [
    "Connected Components in the Undirected graphs"
   ]
  },
  {
   "cell_type": "code",
   "execution_count": 10,
   "metadata": {},
   "outputs": [
    {
     "name": "stdout",
     "output_type": "stream",
     "text": [
      "Connected components in the undirected graph B: 2\n",
      "Connected components in the undirected graph D: 5\n"
     ]
    }
   ],
   "source": [
    "#Strongly connected components\n",
    "connected_components_undirected_B = nx.number_connected_components(Undirected_graph_B)\n",
    "connected_components_undirected_D = nx.number_connected_components(Undirected_graph_D)\n",
    "print(\"Connected components in the undirected graph B: {}\\nConnected components in the undirected graph D: {}\".format(connected_components_undirected_B, connected_components_undirected_D))"
   ]
  },
  {
   "attachments": {},
   "cell_type": "markdown",
   "metadata": {},
   "source": [
    "Size of the largest connected component of the Undirected graphs"
   ]
  },
  {
   "cell_type": "code",
   "execution_count": 23,
   "metadata": {},
   "outputs": [
    {
     "name": "stdout",
     "output_type": "stream",
     "text": [
      "Size largest connected component:\n",
      "\n",
      "Undirected graph B: Graph with 187 nodes and 487 edges\n",
      "Undirected graph D: Graph with 90 nodes and 481 edges\n"
     ]
    }
   ],
   "source": [
    "largets_connected_component_B = max(list(nx.connected_components(Undirected_graph_B)), key=len)\n",
    "largets_connected_component_D = max(list(nx.connected_components(Undirected_graph_D)), key=len)\n",
    "\n",
    "\n",
    "largets_connected_component_B_sub = Undirected_graph_B.subgraph(largets_connected_component_B)\n",
    "largets_connected_component_D_sub = Undirected_graph_D.subgraph(largets_connected_component_D)\n",
    "\n",
    "print(\"Size largest connected component:\\n\\nUndirected graph B: {}\\nUndirected graph D: {}\".format(largets_connected_component_B_sub, largets_connected_component_D_sub))"
   ]
  },
  {
   "cell_type": "code",
   "execution_count": 28,
   "metadata": {},
   "outputs": [
    {
     "name": "stdout",
     "output_type": "stream",
     "text": [
      "Density for the graph largets connected component B 0.028002990052325916\n",
      "Density for the graph largets connected component D 0.12009987515605493\n"
     ]
    }
   ],
   "source": [
    "print(\"Density for the graph largets connected component B {}\".format(nx.density(largets_connected_component_B_sub)))\n",
    "print(\"Density for the graph largets connected component D {}\".format(nx.density(largets_connected_component_D_sub)))"
   ]
  },
  {
   "cell_type": "code",
   "execution_count": 30,
   "metadata": {},
   "outputs": [
    {
     "name": "stdout",
     "output_type": "stream",
     "text": [
      "Radius for the largets connected component B 10\n",
      "Radius for the largets connected component D 5\n"
     ]
    }
   ],
   "source": [
    "print(\"Radius for the largets connected component B {}\".format(nx.radius(largets_connected_component_B_sub)))\n",
    "print(\"Radius for the largets connected component D {}\".format(nx.radius(largets_connected_component_D_sub)))"
   ]
  },
  {
   "attachments": {},
   "cell_type": "markdown",
   "metadata": {},
   "source": [
    "# Session 3"
   ]
  },
  {
   "attachments": {},
   "cell_type": "markdown",
   "metadata": {},
   "source": [
    "Most and less similiar artist from Drake"
   ]
  },
  {
   "cell_type": "code",
   "execution_count": null,
   "metadata": {},
   "outputs": [],
   "source": [
    "Graph_B_pandas           = pd.read_csv('/Users/nbiescas/Desktop/Graphs/Graphs_data/Pandas_Graph_B.csv', index_col='song_id')\n",
    "Mean_audio_features_data = compute_mean_audio_features(Graph_B_pandas,)\n",
    "result                   = create_similarity_graph(Mean_audio_features_data, similarity = 'cosine')"
   ]
  },
  {
   "attachments": {},
   "cell_type": "markdown",
   "metadata": {},
   "source": [
    "# Session 4"
   ]
  }
 ],
 "metadata": {
  "kernelspec": {
   "display_name": "base",
   "language": "python",
   "name": "python3"
  },
  "language_info": {
   "codemirror_mode": {
    "name": "ipython",
    "version": 3
   },
   "file_extension": ".py",
   "mimetype": "text/x-python",
   "name": "python",
   "nbconvert_exporter": "python",
   "pygments_lexer": "ipython3",
   "version": "3.9.13"
  },
  "orig_nbformat": 4
 },
 "nbformat": 4,
 "nbformat_minor": 2
}
