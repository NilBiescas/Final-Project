{
 "cells": [
  {
   "cell_type": "code",
   "execution_count": 26,
   "metadata": {},
   "outputs": [],
   "source": [
    "import networkx as nx\n",
    "import pandas as pd\n",
    "from Skeletons.Lab_AGX_202223_S2_skeleton import *"
   ]
  },
  {
   "attachments": {},
   "cell_type": "markdown",
   "metadata": {},
   "source": [
    "# Firts Session Code"
   ]
  },
  {
   "cell_type": "code",
   "execution_count": 27,
   "metadata": {},
   "outputs": [],
   "source": [
    "Graph_B  = nx.read_graphml('/Users/nbiescas/Desktop/Graphs/Graphs_data/Graph_A.graphml')\n",
    "Graph_D  = nx.read_graphml('/Users/nbiescas/Desktop/Graphs/Graphs_data/Graph_B.graphml')"
   ]
  },
  {
   "cell_type": "code",
   "execution_count": 28,
   "metadata": {},
   "outputs": [],
   "source": [
    "#Order of the graphs\n",
    "order_b = Graph_B.order()\n",
    "order_d = Graph_D.order()\n",
    "\n",
    "#Size of the graphs\n",
    "size_b = Graph_B.size()\n",
    "size_d = Graph_D.size()\n"
   ]
  },
  {
   "cell_type": "code",
   "execution_count": null,
   "metadata": {},
   "outputs": [],
   "source": [
    "#import matplotlib.pyplot as plt\n",
    "#plt.plot(order_DFS, label = \"DFS\")\n",
    "#plt.plot(order_BFS, label = \"BFS\")\n",
    "#plt.xlabel('Position')\n",
    "#plt.ylabel('Value')\n",
    "#plt.title('Line Plot of Incrementing Values')\n",
    "#plt.legend()\n",
    "#plt.show()\n"
   ]
  },
  {
   "attachments": {},
   "cell_type": "markdown",
   "metadata": {},
   "source": [
    "In Degree, Out-Degree and Median in degree of the graphs"
   ]
  },
  {
   "cell_type": "code",
   "execution_count": 29,
   "metadata": {},
   "outputs": [],
   "source": [
    "#Graph B\n",
    "In_Degree = Graph_B.in_degree(Graph_B.nodes())\n",
    "in_degree_values_sorted = sorted([degree for _, degree in In_Degree])\n",
    "Minimum_In_Degree = in_degree_values_sorted[0]\n",
    "Maximum_In_Degree = in_degree_values_sorted[-1]\n",
    "\n",
    "n = len(in_degree_values_sorted)\n",
    "Median_In_Degree  = in_degree_values_sorted[n // 2] if n % 2 == 1 else (in_degree_values_sorted[n // 2 - 1] + in_degree_values_sorted[n // 2]) / 2"
   ]
  },
  {
   "cell_type": "code",
   "execution_count": 30,
   "metadata": {},
   "outputs": [],
   "source": [
    "DataFrame = pd.read_csv('/Users/nbiescas/Desktop/Graphs/Graphs_data/D.csv', index_col=\"song_id\")"
   ]
  },
  {
   "cell_type": "code",
   "execution_count": 31,
   "metadata": {},
   "outputs": [],
   "source": [
    "number_songs  = len(DataFrame.index)\n",
    "number_artist = len(DataFrame.artists.unique())\n",
    "number_albums = len(DataFrame.albums.unique())"
   ]
  },
  {
   "attachments": {},
   "cell_type": "markdown",
   "metadata": {},
   "source": [
    "# Second Session Code"
   ]
  },
  {
   "cell_type": "code",
   "execution_count": 37,
   "metadata": {},
   "outputs": [],
   "source": [
    "Undirected_graph_B  = nx.read_graphml('/Users/nbiescas/Desktop/Graphs/Undirected_graph_B.graphml.xml')\n",
    "Undirected_graph_D  = nx.read_graphml('/Users/nbiescas/Desktop/Graphs/Undirected_graph_D.graphml.xml')"
   ]
  },
  {
   "attachments": {},
   "cell_type": "markdown",
   "metadata": {},
   "source": [
    "Provide the order and size of the four obtained undirected graphs"
   ]
  },
  {
   "cell_type": "code",
   "execution_count": 62,
   "metadata": {},
   "outputs": [
    {
     "name": "stdout",
     "output_type": "stream",
     "text": [
      "Graph B order:  188 Graph D order:  197 \n",
      "Graph B size:   492 Graph D size:   957 \n"
     ]
    }
   ],
   "source": [
    "Undirected_graph_B_size = Undirected_graph_B.size()\n",
    "Undirected_graph_D_size = Undirected_graph_D.size()\n",
    "\n",
    "Undirected_graph_B_order = Undirected_graph_B.order()\n",
    "Undirected_graph_D_order = Undirected_graph_D.order()\n",
    "\n",
    "print(\"Graph B order: {:4} Graph D order:  {:2} \".format(Undirected_graph_B_order, Undirected_graph_D_order))\n",
    "print(\"Graph B size: {:5} Graph D size:   {:2} \".format(Undirected_graph_B_size, Undirected_graph_D_size))"
   ]
  },
  {
   "attachments": {},
   "cell_type": "markdown",
   "metadata": {},
   "source": [
    "Stronly and Weakly connected Components "
   ]
  },
  {
   "cell_type": "code",
   "execution_count": 34,
   "metadata": {},
   "outputs": [],
   "source": [
    "#Weakly connected components\n",
    "weakly_connected_components_Graph_B = list(nx.weakly_connected_components(Graph_B))\n",
    "weakly_connected_components_Graph_D = list(nx.weakly_connected_components(Graph_D))"
   ]
  },
  {
   "cell_type": "code",
   "execution_count": 35,
   "metadata": {},
   "outputs": [],
   "source": [
    "#Strongly connected components\n",
    "strongly_connected_components_Graph_B = len(list(nx.strongly_connected_components(Graph_B)))\n",
    "strongly_connected_components_Graph_D = len(list(nx.strongly_connected_components(Graph_D)))"
   ]
  },
  {
   "attachments": {},
   "cell_type": "markdown",
   "metadata": {},
   "source": [
    "Connected Components in the Undirected graphs"
   ]
  },
  {
   "cell_type": "code",
   "execution_count": 44,
   "metadata": {},
   "outputs": [
    {
     "name": "stdout",
     "output_type": "stream",
     "text": [
      "2 5\n"
     ]
    }
   ],
   "source": [
    "#Strongly connected components\n",
    "connected_components_undirected_B = nx.number_connected_components(Undirected_graph_B)\n",
    "connected_components_undirected_D = nx.number_connected_components(Undirected_graph_D)\n",
    "print(connected_components_undirected_B, connected_components_undirected_D)"
   ]
  },
  {
   "attachments": {},
   "cell_type": "markdown",
   "metadata": {},
   "source": [
    "Size of the largest connected component of the Undirected graphs"
   ]
  },
  {
   "cell_type": "code",
   "execution_count": 45,
   "metadata": {},
   "outputs": [
    {
     "name": "stdout",
     "output_type": "stream",
     "text": [
      "186 92\n"
     ]
    }
   ],
   "source": [
    "largets_connected_component_B = len(max(list(nx.connected_components(Undirected_graph_B)), key=len))\n",
    "largets_connected_component_D = len(max(list(nx.connected_components(Undirected_graph_D)), key=len))\n",
    "\n",
    "print(largets_connected_component_B, largets_connected_component_D)"
   ]
  },
  {
   "attachments": {},
   "cell_type": "markdown",
   "metadata": {},
   "source": [
    "# Session 3"
   ]
  },
  {
   "attachments": {},
   "cell_type": "markdown",
   "metadata": {},
   "source": [
    "# Session 4"
   ]
  }
 ],
 "metadata": {
  "kernelspec": {
   "display_name": "base",
   "language": "python",
   "name": "python3"
  },
  "language_info": {
   "codemirror_mode": {
    "name": "ipython",
    "version": 3
   },
   "file_extension": ".py",
   "mimetype": "text/x-python",
   "name": "python",
   "nbconvert_exporter": "python",
   "pygments_lexer": "ipython3",
   "version": "3.9.13"
  },
  "orig_nbformat": 4
 },
 "nbformat": 4,
 "nbformat_minor": 2
}
