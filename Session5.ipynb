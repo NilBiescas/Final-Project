{
 "cells": [
  {
   "cell_type": "code",
   "execution_count": 138,
   "metadata": {},
   "outputs": [],
   "source": [
    "import spotipy\n",
    "from spotipy.oauth2 import SpotifyClientCredentials\n",
    "import networkx as nx\n",
    "import pandas as pd\n",
    "import time \n",
    "from itertools import combinations\n",
    "\n",
    "CLIENT_ID     = \"9698e462a6bb493ea901b6856cab619f\"\n",
    "CLIENT_SECRET = \"dd9b9a7ecb06457bad00b54cec5a0b26\"\n",
    "\n",
    "auth_manager = SpotifyClientCredentials (\n",
    "            client_id     = CLIENT_ID ,\n",
    "            client_secret = CLIENT_SECRET )\n",
    "\n",
    "sp = spotipy.Spotify( auth_manager = auth_manager )"
   ]
  },
  {
   "cell_type": "code",
   "execution_count": 91,
   "metadata": {},
   "outputs": [],
   "source": [
    "Graph_FB = nx.read_graphml('/Users/nbiescas/Desktop/Graphs/Graphs_data/Graph_FB.graphml')\n",
    "Graph_HB = nx.read_graphml('/Users/nbiescas/Desktop/Graphs/Graphs_data/Graph_HB.graphml')"
   ]
  },
  {
   "cell_type": "code",
   "execution_count": 105,
   "metadata": {},
   "outputs": [],
   "source": [
    "Pandas_Graph_B_songs      = pd.read_csv('/Users/nbiescas/Desktop/Graphs/Graphs_data/Pandas_Graph_B.csv')\n",
    "Dataframe_D_songs         = pd.read_csv('/Users/nbiescas/Desktop/Graphs/Graphs_data/D.csv')\n",
    "Pandas_Graph_D_songs      = pd.read_csv('/Users/nbiescas/Desktop/Graphs/Graphs_data/Pandas_Graph_D.csv')"
   ]
  },
  {
   "cell_type": "code",
   "execution_count": 119,
   "metadata": {},
   "outputs": [],
   "source": [
    "# Concatenate the dataframes vertically\n",
    "combined_df = pd.concat([Pandas_Graph_B_songs, Dataframe_D_songs, Pandas_Graph_D_songs])\n",
    "\n",
    "# Drop duplicates and keep only unique songs id\n",
    "# unique_df contains all the unique songs from all the explorations we have done\n",
    "# df_unique = combined_df.drop_duplicates(subset=['song_id'])"
   ]
  },
  {
   "cell_type": "code",
   "execution_count": 120,
   "metadata": {},
   "outputs": [],
   "source": [
    "# Convert strings of dictionaries to dictionaries\n",
    "\n",
    "def convert_columns(df, columns_to_convert):\n",
    "    for column in columns_to_convert:\n",
    "        df[column] = df[column].apply(eval)\n",
    "\n",
    "    return df\n",
    "\n",
    "columns_to_convert = ['song_data', 'audio_feature', 'albums', 'artists']\n",
    "combined_df_converted = convert_columns(combined_df, columns_to_convert).reset_index(drop=True)"
   ]
  },
  {
   "cell_type": "code",
   "execution_count": 156,
   "metadata": {},
   "outputs": [],
   "source": [
    "edges = []\n",
    "uniques_song_id = combined_df['song_id'].unique()\n",
    "\n",
    "for song_id in uniques_song_id:\n",
    "    \n",
    "    data_song = combined_df[combined_df['song_id'] == song_id]\n",
    "    ids = data_song['artists'].apply(lambda x: x['id'])\n",
    "    unique_ids = ids.unique()\n",
    "\n",
    "    if len(unique_ids) < 2:\n",
    "        continue\n",
    "\n",
    "    combinations_list = list(combinations(unique_ids, 2))     \n",
    "    edges.extend(combinations_list)\n",
    "    "
   ]
  },
  {
   "cell_type": "code",
   "execution_count": 189,
   "metadata": {},
   "outputs": [],
   "source": [
    "# Create an empty graph\n",
    "graph = nx.Graph()\n",
    "# Add nodes and weighted edges to the graph\n",
    "graph.add_edges_from(edges)"
   ]
  },
  {
   "cell_type": "code",
   "execution_count": 194,
   "metadata": {},
   "outputs": [
    {
     "data": {
      "text/plain": [
       "EdgeDataView([('13y7CgLHjMVRMDqxdx0Xdo', '757aE44tKEUQEqRuT6GnEB', {}), ('13y7CgLHjMVRMDqxdx0Xdo', '6oMuImdp5ZcFhWP0ESe6mG', {}), ('13y7CgLHjMVRMDqxdx0Xdo', '46SHBwWsqBkxI7EeeBEQG7', {}), ('699OTQXzgjhIYAHMy9RyPD', '6Xgp2XMz1fhVYe7i6yNAax', {}), ('6Xgp2XMz1fhVYe7i6yNAax', '2HPaUgqeutzr3jx5a9WyDV', {}), ('6l3HvQ5sa6mXTsMTB19rO5', '3hcs9uc56yIGFCSy9leWe7', {}), ('3hcs9uc56yIGFCSy9leWe7', '1URnnhqYAYcrqrcwql10ft', {}), ('3hcs9uc56yIGFCSy9leWe7', '1RyvyyTE3xzB2ZywiAwp0i', {}), ('1URnnhqYAYcrqrcwql10ft', '0iEtIxbK0KxaSlF7G42ZOp', {}), ('1RyvyyTE3xzB2ZywiAwp0i', '0iEtIxbK0KxaSlF7G42ZOp', {}), ('6XpXnnKHIhCOUbOLOJGe6o', '6aaMZ3fcfLv4tEbmY7bjRM', {}), ('6XpXnnKHIhCOUbOLOJGe6o', '5oFkj1qSlyBUmV5d6Edgtq', {}), ('1iNqsUDUraNWrj00bqssQG', '2RDOrhPqAM4jzTRCEb19qX', {}), ('6Ha4aES39QiVjR0L2lwuwq', '0c173mlxpT3dSFRgMO8XPh', {}), ('0c173mlxpT3dSFRgMO8XPh', '5pnbUBPifNnlusY8kTBivi', {}), ('5dHt1vcEm9qb8fCyLcB3HL', '0NWbwDZY1VkRqFafuQm6wk', {}), ('4pr7J7wzgObkE3DD3Izi7q', '5einkgXXrjhfYCyac1FANB', {}), ('4pr7J7wzgObkE3DD3Izi7q', '3vDUJHQtqT3jFRZ2ECXDTi', {}), ('6AMa1VFQ7qCi61tCRtVWXe', '0PGtMx1bsqoCHCy3MB3gXA', {}), ('7c0XG5cIJTrrAgEC3ULPiq', '0VRj0yCOv2FXJNP47XQnx5', {}), ('7c0XG5cIJTrrAgEC3ULPiq', '4IVAbR2w4JJNJDDRFP3E83', {}), ('0VRj0yCOv2FXJNP47XQnx5', '1pPmIToKXyGdsCF6LmqLmI', {}), ('0VRj0yCOv2FXJNP47XQnx5', '6extd4B6hl8VTmnlhpl2bY', {}), ('2hlmm7s2ICUX0LVIhVFlZQ', '5f7VJjfbwm532GiveGC0ZK', {}), ('2hlmm7s2ICUX0LVIhVFlZQ', '50co4Is1HCEo8bhOyUWKpn', {}), ('2hlmm7s2ICUX0LVIhVFlZQ', '4Gso3d4CscCijv0lmajZWs', {}), ('5f7VJjfbwm532GiveGC0ZK', '6i392l38cR3uBPF0DbNs7S', {}), ('0EeQBlQJFiAfJeVN2vT9s0', '3s8alQfNnY0roAHaJh7Xxt', {}), ('5lHRUCqkQZCIWeX7xG4sYT', '6KZDXtSj0SzGOV705nNeh3', {}), ('5lHRUCqkQZCIWeX7xG4sYT', '67nwj3Y5sZQLl72VNUHEYE', {}), ('6KZDXtSj0SzGOV705nNeh3', '67nwj3Y5sZQLl72VNUHEYE', {}), ('1anyVhU62p31KFi8MEzkbf', '21WS9wngs9AqFckK7yYJPM', {}), ('3ZooCJzNMTLpmJaIRUEorI', '5xUMw9vaS567MBBjsoLslo', {}), ('5gCRApTajqwbnHHPbr2Fpi', '08Ld63UgKrJ0nZnCkzHtzc', {}), ('4Gso3d4CscCijv0lmajZWs', '17lzZA2AlOHwCwFALHttmp', {}), ('17lzZA2AlOHwCwFALHttmp', '137W8MRPWKqSmrBGDBFSop', {}), ('17lzZA2AlOHwCwFALHttmp', '5IcR3N7QB1j6KBL8eImZ8m', {}), ('45a6gCQWq61lIUDmr1tKuO', '1grI9x4Uzos1Asx8JmRW6T', {}), ('45a6gCQWq61lIUDmr1tKuO', '6aIm51fHkokqlJn2vzNTH8', {}), ('45a6gCQWq61lIUDmr1tKuO', '0k7Xl1pqI3tu8sSEjo5oEg', {}), ('1grI9x4Uzos1Asx8JmRW6T', '1J6iGa2TNBDCrJzjsnI1a8', {}), ('4IVAbR2w4JJNJDDRFP3E83', '70gP6Ry4Uo0Yx6uzPIdaiJ', {}), ('3IbbhZMhvYcCTmqWNP3qA1', '6JsAiEcQyEkY9c5Cv5IIwv', {}), ('7zICaxnDB9ZprDSiFpvbbW', '5GQgxUq4MOuXXV99WrRuev', {}), ('7zICaxnDB9ZprDSiFpvbbW', '4135eJjHCRw5SuVzLfzR0x', {}), ('4Yj490bi1KL0QpDnVOtHyr', '6TC6ZeVdvCuBSn32h5Msul', {}), ('6TC6ZeVdvCuBSn32h5Msul', '49rH1OsO47Bo2UibC6Se4Q', {}), ('6Su4V3FShc12WLiMRApLeW', '0ZvobuPpnh1X20UpQnXkRx', {}), ('0ZvobuPpnh1X20UpQnXkRx', '3ykdYhlVieu2rlYCi5HZnT', {}), ('3ykdYhlVieu2rlYCi5HZnT', '1iZKQiBqj5pk8EqIVRo9f6', {}), ('6Uo1hEkf3QaOtDEN5frwVq', '28gYepghWimZ3Eh8Gj2hOO', {}), ('1Yg9lgBUJBpWJc2jcfrVra', '1JHdMI7wMEirtNqMaSazJ5', {}), ('1Yg9lgBUJBpWJc2jcfrVra', '1iZKQiBqj5pk8EqIVRo9f6', {}), ('1JHdMI7wMEirtNqMaSazJ5', '4psGUknTSXLKfT7wrdckRg', {}), ('4psGUknTSXLKfT7wrdckRg', '1iZKQiBqj5pk8EqIVRo9f6', {}), ('1DisOtNFBsfGAuifnt4o8j', '3PcojHQE2TrCy0Kx9l94zp', {}), ('3PcojHQE2TrCy0Kx9l94zp', '4Byc3x9CcT699ZmORPccck', {})])"
      ]
     },
     "execution_count": 194,
     "metadata": {},
     "output_type": "execute_result"
    }
   ],
   "source": [
    "graph.edges(data=True)"
   ]
  }
 ],
 "metadata": {
  "kernelspec": {
   "display_name": "base",
   "language": "python",
   "name": "python3"
  },
  "language_info": {
   "codemirror_mode": {
    "name": "ipython",
    "version": 3
   },
   "file_extension": ".py",
   "mimetype": "text/x-python",
   "name": "python",
   "nbconvert_exporter": "python",
   "pygments_lexer": "ipython3",
   "version": "3.9.13"
  },
  "orig_nbformat": 4
 },
 "nbformat": 4,
 "nbformat_minor": 2
}
