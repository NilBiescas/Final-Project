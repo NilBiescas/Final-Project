{
 "cells": [
  {
   "cell_type": "code",
   "execution_count": 138,
   "metadata": {},
   "outputs": [],
   "source": [
    "import networkx as nx\n",
    "import pandas as pd\n",
    "from collections import defaultdict\n",
    "import numpy as np"
   ]
  },
  {
   "cell_type": "code",
   "execution_count": 145,
   "metadata": {},
   "outputs": [],
   "source": [
    "def retrieve_bidirectional_edges(g: nx.DiGraph, out_filename: str) -> nx.Graph:\n",
    "    \"\"\"\n",
    "    Convert a directed graph into an undirected graph by considering bidirectional edges only.\n",
    "\n",
    "    :param g: a networkx digraph.\n",
    "    :param out_filename: name of the file that will be saved.\n",
    "    :return: a networkx undirected graph.\n",
    "    \"\"\"\n",
    "    undirected_graph = nx.Graph()\n",
    "\n",
    "    bidirectional_edges = []    #List of tuples. Each tuple represents and edge\n",
    "    nodes_attributes    = {}    #Dictionary to store all the information of the nodes\n",
    "    # Iterate over the edges of the directed graph\n",
    "    for u, v in g.edges():       \n",
    "        if g.has_edge(v, u):  # Check if both edges (v, u) and (u, v) exist\n",
    "            bidirectional_edges.append((u, v))      #Store the nodes that have a bidirectional edge\n",
    "            nodes_attributes[v] = g.nodes()[v]      #And their attributes\n",
    "            nodes_attributes[u] = g.nodes()[u]\n",
    "            \n",
    "    undirected_graph.add_edges_from(bidirectional_edges)    #Add all the new nodes, with the edges\n",
    "    nx.set_node_attributes(undirected_graph, nodes_attributes)  #Add the nodes attributes retrive earlier.\n",
    "    nx.write_graphml_lxml(undirected_graph, out_filename)  # Write the undirected graph to a GraphML file\n",
    "    return undirected_graph  # Return the undirected graph\n",
    "\n",
    "def prune_low_degree_nodes(g: nx.Graph, min_degree: int, out_filename: str) -> nx.Graph:\n",
    "    \"\"\"\n",
    "    Prune a graph by removing nodes with degree < min_degree.\n",
    "\n",
    "    :param g: a networkx graph.\n",
    "    :param min_degree: lower bound value for the degree.\n",
    "    :param out_filename: name of the file that will be saved.\n",
    "    :return: a pruned networkx graph.\n",
    "    \"\"\"\n",
    "    # ------- IMPLEMENT HERE THE BODY OF THE FUNCTION ------- #\n",
    "\n",
    "    # Create a list of nodes to remove based on their degree being less than min_degree\n",
    "    remove_nodes = [id for id, degree in g.degree() if degree < min_degree]\n",
    "    \n",
    "    # Remove the nodes from the graph\n",
    "    g.remove_nodes_from(remove_nodes)\n",
    "\n",
    "    # Create a list of nodes with zero degree\n",
    "    zero_degree_nodes = [id for id, degree in g.degree() if degree == 0]\n",
    "    \n",
    "    # Remove the nodes with zero degree from the graph\n",
    "    g.remove_nodes_from(zero_degree_nodes)\n",
    "\n",
    "    # ----------------- END OF FUNCTION --------------------- #\n",
    "    nx.write_graphml_lxml(g, out_filename)  # Write the pruned graph to a GraphML file\n",
    "    return g  # Return the pruned graph\n",
    "\n",
    "\n",
    "def prune_low_weight_edges(g: nx.Graph, min_weight=None, min_percentile=None, out_filename: str = None) -> nx.Graph:\n",
    "    \"\"\"\n",
    "    Prune a graph by removing edges with weight < threshold. Threshold can be specified as a value or as a percentile.\n",
    "    :param g: a weighted networkx graph.\n",
    "    :param min_weight: lower bound value for the weight.\n",
    "    :param min_percentile: lower bound percentile for the weight.\n",
    "    :param out_filename: name of the file that will be saved.\n",
    "    :return: a pruned networkx graph.\n",
    "    \"\"\"\n",
    "    \n",
    "    if ((min_weight == None) and (min_percentile == None)) or ((min_weight != None) and (min_percentile != None)):\n",
    "        raise Exception  # Raise an exception if both min_weight and min_percentile are None or if both are not None.\n",
    "    \n",
    "    if min_percentile != None:\n",
    "        sorted_weights = sorted([data[\"weight\"] for _, _, data in g.edges(data=True)])  # Get a sorted list of edge weights\n",
    "        pos = int((min_percentile * 100) * len(sorted_weights) - 1)  # Calculate the position based on percentile\n",
    "        min_weight = sorted_weights[pos]  # Set the min_weight based on the calculated position in the sorted list\n",
    "\n",
    "    # Find edges with weight less than min_weight and remove them from the graph\n",
    "    remove_edges = [(u, v) for u, v, data in g.edges(data=True) if data[\"weight\"] < min_weight]\n",
    "    g.remove_edges_from(remove_edges)\n",
    "\n",
    "    # Find nodes with zero degree and remove them from the graph\n",
    "    zero_degree_nodes = [id for id, degree in g.degree() if degree == 0]\n",
    "    g.remove_nodes_from(zero_degree_nodes)\n",
    "\n",
    "    # Write the pruned graph to a file if out_filename is specified\n",
    "\n",
    "    # Uncomment the line below to save the pruned graph as a graphml file\n",
    "    nx.write_graphml_lxml(g, out_filename)\n",
    "    return g\n",
    "\n",
    "\n",
    "\n",
    "def compute_mean_audio_features(tracks_df: pd.DataFrame) -> pd.DataFrame:\n",
    "    \"\"\"\n",
    "    Compute the mean audio features for tracks of the same artist.\n",
    "\n",
    "    :param tracks_df: tracks dataframe (with audio features per each track).\n",
    "    :return: artist dataframe (with mean audio features per each artist).\n",
    "    \"\"\"\n",
    "\n",
    "    mean_audio_features = {}  # Dictionary to store mean audio features for each artist\n",
    "\n",
    "    # Convert string representations of dictionaries to actual dictionaries\n",
    "    tracks_df[\"audio_feature\"] = tracks_df[\"audio_feature\"].apply(eval)\n",
    "    tracks_df[\"song_data\"] = tracks_df[\"song_data\"].apply(eval)\n",
    "    tracks_df[\"artists\"] = tracks_df[\"artists\"].apply(eval)\n",
    "    tracks_df['albums'] = tracks_df['albums'].apply(eval)\n",
    "\n",
    "    # Get unique artist names from the dataframe\n",
    "    artist_names = tracks_df['artists'].apply(lambda x: x.get('name')).unique()\n",
    "\n",
    "    for artist_name in artist_names:\n",
    "        filtered_df = tracks_df[tracks_df['artists'].apply(lambda x: x.get('name') == artist_name)]\n",
    "        artist_id = filtered_df[\"artists\"].iat[0]['id']  # Get the artist ID from the first row\n",
    "\n",
    "        grouped_audio_features = defaultdict(int)  # Defaultdict to store aggregated audio features\n",
    "        num_songs = len(filtered_df)  # Number of songs for the artist\n",
    "\n",
    "        for entry in filtered_df[\"audio_feature\"].values:\n",
    "            for key in entry:\n",
    "                grouped_audio_features[key] += entry[key]  # Aggregate audio features\n",
    "\n",
    "        # Calculate mean audio features\n",
    "        mean_audio = {key: round(grouped_audio_features[key] / num_songs, 2) for key in grouped_audio_features}\n",
    "\n",
    "        # Store artist ID, name, and mean audio features in the dictionary\n",
    "        _, counts = zip(*mean_audio.items())\n",
    "        mean_audio_features[artist_id] = {\"artist_name\": artist_name, \"audio_features_mean\": np.array(counts)} #Store the audi features as a numpy 1d array\n",
    "\n",
    "    return pd.DataFrame.from_dict(mean_audio_features, orient=\"index\")\n",
    "\n",
    "\n",
    "def cosine_similiarity(vector1, vector2):\n",
    "    return np.dot(vector1, vector2) / (np.linalg.norm(vector1) * np.linalg.norm(vector2))\n",
    "\n",
    "def euclidean_similiarity(vector1, vector2):\n",
    "    return 1 / (1 + np.linalg.norm(vector1 - vector2))\n",
    "\n",
    "def create_similarity_graph(artist_audio_features_df: pd.DataFrame, similarity: str, out_filename: str = None) -> \\\n",
    "        nx.Graph:\n",
    "    \n",
    "    \"\"\"\n",
    "    Create a similarity graph from a dataframe with mean audio features per artist.\n",
    "\n",
    "    :param artist_audio_features_df: dataframe with mean audio features per artist.\n",
    "    :param similarity: the name of the similarity metric to use (e.g. \"cosine\" or \"euclidean\").\n",
    "    :param out_filename: name of the file that will be saved.\n",
    "    :return: a networkx graph with the similarity between artists as edge weights.\n",
    "    \"\"\"\n",
    "    # ------- IMPLEMENT HERE THE BODY OF THE FUNCTION ------- #\n",
    "    edges_weights = []\n",
    "    audio_features_mean = artist_audio_features_df[\"audio_features_mean\"]\n",
    "    artist_id = artist_audio_features_df.index\n",
    "\n",
    "    for u in artist_id:\n",
    "        vector1 = audio_features_mean[u]\n",
    "        for v in artist_id:\n",
    "            if v == u:\n",
    "                continue\n",
    "            vector2 = audio_features_mean[v]\n",
    "            if similarity == 'cosine':\n",
    "                similarity = cosine_similiarity(vector1, vector2)\n",
    "            else:\n",
    "                similarity = euclidean_similiarity(vector1, vector2)\n",
    "            edges_weights.append((u, v, {\"weight\":similarity}))\n",
    "\n",
    "    # Create an empty graph\n",
    "    graph = nx.Graph()\n",
    "    # Add nodes and weighted edges to the graph\n",
    "    graph.add_edges_from(edges_weights)\n",
    "\n",
    "    nx.write_graphml_lxml(graph, out_filename)\n",
    "    return graph\n",
    "    # ----------------- END OF FUNCTION --------------------- #"
   ]
  },
  {
   "cell_type": "code",
   "execution_count": 108,
   "metadata": {},
   "outputs": [],
   "source": [
    "import networkx as nx\n",
    "\n",
    "def check_bidirectional_edges(graph):\n",
    "    \"\"\"\n",
    "    Check if all edges in a graph are bidirectional (exist in both directions).\n",
    "\n",
    "    Args:\n",
    "        graph (networkx.Graph): The input graph.\n",
    "\n",
    "    Returns:\n",
    "        bool: True if all edges are bidirectional, False otherwise.\n",
    "    \"\"\"\n",
    "    for u, v in graph.edges():\n",
    "        if not graph.has_edge(v, u):\n",
    "            return False\n",
    "    return True"
   ]
  },
  {
   "cell_type": "code",
   "execution_count": 226,
   "metadata": {},
   "outputs": [],
   "source": [
    "def obtain_weighted_edges(graph, completed_weighted_graph):\n",
    "    weigthed_edges = {(v, u):completed_weighted_graph.edges()[(v, u)] for v, u in graph.edges()}\n",
    "    weighted_graph = graph.copy()\n",
    "    nx.set_edge_attributes(weighted_graph, values=weigthed_edges)\n",
    "\n",
    "    return weighted_graph"
   ]
  },
  {
   "cell_type": "code",
   "execution_count": 231,
   "metadata": {},
   "outputs": [],
   "source": [
    "Graph_B  = nx.read_graphml(r'D:\\NIL\\Uni\\Final Project\\Graphs_data\\Graph_B.graphml')\n",
    "Graph_D  = nx.read_graphml(r'D:\\NIL\\Uni\\Final Project\\Graphs_data\\Graph_D.graphml')"
   ]
  },
  {
   "cell_type": "code",
   "execution_count": 232,
   "metadata": {},
   "outputs": [],
   "source": [
    "Undirected_graph_B = retrieve_bidirectional_edges(Graph_B, \"Undirected_graph_B.graphml\")\n",
    "Undirected_graph_D = retrieve_bidirectional_edges(Graph_D, \"Undirected_graph_D.graphml\")"
   ]
  },
  {
   "cell_type": "code",
   "execution_count": 233,
   "metadata": {},
   "outputs": [],
   "source": [
    "DataFrame                = pd.read_csv(r\"D:\\NIL\\Uni\\Final Project\\Graphs_data\\D.csv\", index_col=\"song_id\")\n",
    "artist_audio_features_df = compute_mean_audio_features(DataFrame)\n",
    "Complete_graph           = create_similarity_graph(artist_audio_features_df, similarity = 'cosine', out_filename = \"CompleteGraph.xml\") "
   ]
  },
  {
   "cell_type": "code",
   "execution_count": 234,
   "metadata": {},
   "outputs": [],
   "source": [
    "Undirected_graph_B_weights = obtain_weighted_edges(Undirected_graph_B, Complete_graph)\n",
    "Undirected_graph_D_weights = obtain_weighted_edges(Undirected_graph_D, Complete_graph)"
   ]
  },
  {
   "cell_type": "code",
   "execution_count": null,
   "metadata": {},
   "outputs": [],
   "source": [
    "#Undirected_graph_B_weights = prune_low_weight_edges(Complete_graph, min_weight=0.58)\n",
    "#Undirected_graph_D_weights = prune_low_weight_edges(Complete_graph, min_weight=0.49)"
   ]
  },
  {
   "cell_type": "code",
   "execution_count": 150,
   "metadata": {},
   "outputs": [
    {
     "data": {
      "text/plain": [
       "197"
      ]
     },
     "execution_count": 150,
     "metadata": {},
     "output_type": "execute_result"
    }
   ],
   "source": [
    "#Order\n",
    "Undirected_graph_B.order()\n",
    "Undirected_graph_D.order()"
   ]
  },
  {
   "cell_type": "code",
   "execution_count": 151,
   "metadata": {},
   "outputs": [
    {
     "data": {
      "text/plain": [
       "957"
      ]
     },
     "execution_count": 151,
     "metadata": {},
     "output_type": "execute_result"
    }
   ],
   "source": [
    "#Size\n",
    "Undirected_graph_B.size()\n",
    "Undirected_graph_D.size()"
   ]
  },
  {
   "cell_type": "code",
   "execution_count": null,
   "metadata": {},
   "outputs": [],
   "source": [
    "#Weakly connected components\n",
    "list(nx.weakly_connected_components(Graph_B))\n",
    "list(nx.weakly_connected_components(Graph_D))"
   ]
  },
  {
   "cell_type": "code",
   "execution_count": 166,
   "metadata": {},
   "outputs": [
    {
     "data": {
      "text/plain": [
       "331"
      ]
     },
     "execution_count": 166,
     "metadata": {},
     "output_type": "execute_result"
    }
   ],
   "source": [
    "#Strongly connected components\n",
    "len(list(nx.strongly_connected_components(Graph_B)))\n",
    "len(list(nx.strongly_connected_components(Graph_D)))"
   ]
  },
  {
   "cell_type": "code",
   "execution_count": 168,
   "metadata": {},
   "outputs": [
    {
     "data": {
      "text/plain": [
       "5"
      ]
     },
     "execution_count": 168,
     "metadata": {},
     "output_type": "execute_result"
    }
   ],
   "source": [
    "#Strongly connected components\n",
    "connected_components_weighted_B = nx.number_connected_components(Undirected_graph_B)\n",
    "connected_components_weighted_D = nx.number_connected_components(Undirected_graph_D)"
   ]
  },
  {
   "cell_type": "code",
   "execution_count": 179,
   "metadata": {},
   "outputs": [
    {
     "data": {
      "text/plain": [
       "186"
      ]
     },
     "execution_count": 179,
     "metadata": {},
     "output_type": "execute_result"
    }
   ],
   "source": [
    "len(max(list(nx.connected_components(Undirected_graph_B)), key=len))"
   ]
  },
  {
   "cell_type": "code",
   "execution_count": 178,
   "metadata": {},
   "outputs": [
    {
     "data": {
      "text/plain": [
       "92"
      ]
     },
     "execution_count": 178,
     "metadata": {},
     "output_type": "execute_result"
    }
   ],
   "source": [
    "len(max(list(nx.connected_components(Undirected_graph_D)), key=len))"
   ]
  }
 ],
 "metadata": {
  "kernelspec": {
   "display_name": "base",
   "language": "python",
   "name": "python3"
  },
  "language_info": {
   "codemirror_mode": {
    "name": "ipython",
    "version": 3
   },
   "file_extension": ".py",
   "mimetype": "text/x-python",
   "name": "python",
   "nbconvert_exporter": "python",
   "pygments_lexer": "ipython3",
   "version": "3.8.16"
  },
  "orig_nbformat": 4
 },
 "nbformat": 4,
 "nbformat_minor": 2
}
